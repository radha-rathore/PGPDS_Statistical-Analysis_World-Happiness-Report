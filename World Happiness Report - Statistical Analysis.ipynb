{
 "cells": [
  {
   "cell_type": "markdown",
   "metadata": {},
   "source": [
    "#### The happiness scores and rankings use data from the Gallup World Poll . The columns following the happiness score estimate the extent to which each of six factors – economic production, social support, life expectancy, freedom, absence of corruption, and generosity – contribute to making life evaluations higher in each country.\n",
    "\n",
    "### Key Features in 'world-happiness-report': \n",
    "\n",
    "1.\tLadder score: It is the score for happiness and liveability. The high ladder score represents the best possible life for you and low ladder score represents the worst possible life for you.\n",
    "2.\tLogged GDP per capita: It shows how much economic production value can be attributed to each individual citizen. Alternatively, this translates to a measure of national wealth since GDP market value per person also readily serves as a prosperity measure.\n",
    "3.\tSocial support: It is defined in terms of social network characteristics such as assistance from family, friends, neighbours and other community members.\n",
    "4.\tHealthy life expectancy at birth: Healthy life expectancy is the average life in good health - that is to say without irreversible limitation of activity in daily life or incapacities - of a fictitious generation subject to the conditions of mortality and morbidity prevailing that year\n",
    "5.\tFreedom to make life choices: Freedom of choice describes an individual's opportunity and autonomy to perform an action selected from at least two available options, unconstrained by external parties.\n",
    "6.\tGenerosity Generosity is the virtue of being liberal in giving, often as gifts.\n",
    "7.\tPerceptions of corruption: Corruption is a form of dishonesty or criminal offense undertaken by a person or organization entrusted with a position of authority, to acquire illicit benefit\n",
    "\n",
    "\n",
    "**- While a happiness report or rank might seem trivial, it is this type of data that points to our development policies and the people’s perception of how their governments perform.**\n",
    "\n",
    "**- The report also helps in pointing out the importance of qualitative development rather than quantitative. It takes into consideration what people really think about topics such as women’s rights, corruption rates, fundamental rights and more. In a way, it is one of the most important reports for a developing economy like India.**\n",
    "\n",
    "### Data Preparation and EDA"
   ]
  },
  {
   "cell_type": "code",
   "execution_count": 1,
   "metadata": {},
   "outputs": [],
   "source": [
    "import pandas as pd\n",
    "import numpy as np\n",
    "%matplotlib inline\n",
    "import matplotlib.pyplot as plt\n",
    "import seaborn as sns"
   ]
  },
  {
   "cell_type": "code",
   "execution_count": 2,
   "metadata": {},
   "outputs": [],
   "source": [
    "data = pd.read_csv(\"Final_Combined_File.csv\")"
   ]
  },
  {
   "cell_type": "code",
   "execution_count": 113,
   "metadata": {},
   "outputs": [
    {
     "data": {
      "text/html": [
       "<div>\n",
       "<style scoped>\n",
       "    .dataframe tbody tr th:only-of-type {\n",
       "        vertical-align: middle;\n",
       "    }\n",
       "\n",
       "    .dataframe tbody tr th {\n",
       "        vertical-align: top;\n",
       "    }\n",
       "\n",
       "    .dataframe thead th {\n",
       "        text-align: right;\n",
       "    }\n",
       "</style>\n",
       "<table border=\"1\" class=\"dataframe\">\n",
       "  <thead>\n",
       "    <tr style=\"text-align: right;\">\n",
       "      <th></th>\n",
       "      <th>Country name</th>\n",
       "      <th>year</th>\n",
       "      <th>Ladder score</th>\n",
       "      <th>Logged GDP per capita</th>\n",
       "      <th>Social support</th>\n",
       "      <th>Healthy life expectancy at birth</th>\n",
       "      <th>Freedom to make life choices</th>\n",
       "      <th>Generosity</th>\n",
       "      <th>Perceptions of corruption</th>\n",
       "      <th>Regional indicator</th>\n",
       "    </tr>\n",
       "  </thead>\n",
       "  <tbody>\n",
       "    <tr>\n",
       "      <th>0</th>\n",
       "      <td>Afghanistan</td>\n",
       "      <td>2008</td>\n",
       "      <td>3.724</td>\n",
       "      <td>7.370</td>\n",
       "      <td>0.451</td>\n",
       "      <td>50.8</td>\n",
       "      <td>0.718</td>\n",
       "      <td>0.168</td>\n",
       "      <td>0.882</td>\n",
       "      <td>South Asia</td>\n",
       "    </tr>\n",
       "    <tr>\n",
       "      <th>1</th>\n",
       "      <td>Afghanistan</td>\n",
       "      <td>2009</td>\n",
       "      <td>4.402</td>\n",
       "      <td>7.540</td>\n",
       "      <td>0.552</td>\n",
       "      <td>51.2</td>\n",
       "      <td>0.679</td>\n",
       "      <td>0.190</td>\n",
       "      <td>0.850</td>\n",
       "      <td>South Asia</td>\n",
       "    </tr>\n",
       "    <tr>\n",
       "      <th>2</th>\n",
       "      <td>Afghanistan</td>\n",
       "      <td>2010</td>\n",
       "      <td>4.758</td>\n",
       "      <td>7.647</td>\n",
       "      <td>0.539</td>\n",
       "      <td>51.6</td>\n",
       "      <td>0.600</td>\n",
       "      <td>0.121</td>\n",
       "      <td>0.707</td>\n",
       "      <td>South Asia</td>\n",
       "    </tr>\n",
       "  </tbody>\n",
       "</table>\n",
       "</div>"
      ],
      "text/plain": [
       "  Country name  year  Ladder score  Logged GDP per capita  Social support  \\\n",
       "0  Afghanistan  2008         3.724                  7.370           0.451   \n",
       "1  Afghanistan  2009         4.402                  7.540           0.552   \n",
       "2  Afghanistan  2010         4.758                  7.647           0.539   \n",
       "\n",
       "   Healthy life expectancy at birth  Freedom to make life choices  Generosity  \\\n",
       "0                              50.8                         0.718       0.168   \n",
       "1                              51.2                         0.679       0.190   \n",
       "2                              51.6                         0.600       0.121   \n",
       "\n",
       "   Perceptions of corruption Regional indicator  \n",
       "0                      0.882         South Asia  \n",
       "1                      0.850         South Asia  \n",
       "2                      0.707         South Asia  "
      ]
     },
     "execution_count": 113,
     "metadata": {},
     "output_type": "execute_result"
    }
   ],
   "source": [
    "data.head(3)"
   ]
  },
  {
   "cell_type": "code",
   "execution_count": 112,
   "metadata": {},
   "outputs": [
    {
     "data": {
      "text/html": [
       "<div>\n",
       "<style scoped>\n",
       "    .dataframe tbody tr th:only-of-type {\n",
       "        vertical-align: middle;\n",
       "    }\n",
       "\n",
       "    .dataframe tbody tr th {\n",
       "        vertical-align: top;\n",
       "    }\n",
       "\n",
       "    .dataframe thead th {\n",
       "        text-align: right;\n",
       "    }\n",
       "</style>\n",
       "<table border=\"1\" class=\"dataframe\">\n",
       "  <thead>\n",
       "    <tr style=\"text-align: right;\">\n",
       "      <th></th>\n",
       "      <th>Ladder score</th>\n",
       "      <th>Logged GDP per capita</th>\n",
       "      <th>Social support</th>\n",
       "      <th>Healthy life expectancy at birth</th>\n",
       "      <th>Freedom to make life choices</th>\n",
       "      <th>Generosity</th>\n",
       "      <th>Perceptions of corruption</th>\n",
       "    </tr>\n",
       "  </thead>\n",
       "  <tbody>\n",
       "    <tr>\n",
       "      <th>count</th>\n",
       "      <td>149.000000</td>\n",
       "      <td>149.000000</td>\n",
       "      <td>149.000000</td>\n",
       "      <td>149.000000</td>\n",
       "      <td>149.000000</td>\n",
       "      <td>149.000000</td>\n",
       "      <td>149.000000</td>\n",
       "    </tr>\n",
       "    <tr>\n",
       "      <th>mean</th>\n",
       "      <td>5.532839</td>\n",
       "      <td>9.432208</td>\n",
       "      <td>0.814745</td>\n",
       "      <td>64.992799</td>\n",
       "      <td>0.791597</td>\n",
       "      <td>-0.015134</td>\n",
       "      <td>0.727450</td>\n",
       "    </tr>\n",
       "    <tr>\n",
       "      <th>std</th>\n",
       "      <td>1.073924</td>\n",
       "      <td>1.158601</td>\n",
       "      <td>0.114889</td>\n",
       "      <td>6.762043</td>\n",
       "      <td>0.113332</td>\n",
       "      <td>0.150657</td>\n",
       "      <td>0.179226</td>\n",
       "    </tr>\n",
       "    <tr>\n",
       "      <th>min</th>\n",
       "      <td>2.523000</td>\n",
       "      <td>6.635000</td>\n",
       "      <td>0.463000</td>\n",
       "      <td>48.478000</td>\n",
       "      <td>0.382000</td>\n",
       "      <td>-0.288000</td>\n",
       "      <td>0.082000</td>\n",
       "    </tr>\n",
       "    <tr>\n",
       "      <th>25%</th>\n",
       "      <td>4.852000</td>\n",
       "      <td>8.541000</td>\n",
       "      <td>0.750000</td>\n",
       "      <td>59.802000</td>\n",
       "      <td>0.718000</td>\n",
       "      <td>-0.126000</td>\n",
       "      <td>0.667000</td>\n",
       "    </tr>\n",
       "    <tr>\n",
       "      <th>50%</th>\n",
       "      <td>5.534000</td>\n",
       "      <td>9.569000</td>\n",
       "      <td>0.832000</td>\n",
       "      <td>66.603000</td>\n",
       "      <td>0.804000</td>\n",
       "      <td>-0.036000</td>\n",
       "      <td>0.781000</td>\n",
       "    </tr>\n",
       "    <tr>\n",
       "      <th>75%</th>\n",
       "      <td>6.255000</td>\n",
       "      <td>10.421000</td>\n",
       "      <td>0.905000</td>\n",
       "      <td>69.600000</td>\n",
       "      <td>0.877000</td>\n",
       "      <td>0.079000</td>\n",
       "      <td>0.845000</td>\n",
       "    </tr>\n",
       "    <tr>\n",
       "      <th>max</th>\n",
       "      <td>7.842000</td>\n",
       "      <td>11.647000</td>\n",
       "      <td>0.983000</td>\n",
       "      <td>76.953000</td>\n",
       "      <td>0.970000</td>\n",
       "      <td>0.542000</td>\n",
       "      <td>0.939000</td>\n",
       "    </tr>\n",
       "  </tbody>\n",
       "</table>\n",
       "</div>"
      ],
      "text/plain": [
       "       Ladder score  Logged GDP per capita  Social support  \\\n",
       "count    149.000000             149.000000      149.000000   \n",
       "mean       5.532839               9.432208        0.814745   \n",
       "std        1.073924               1.158601        0.114889   \n",
       "min        2.523000               6.635000        0.463000   \n",
       "25%        4.852000               8.541000        0.750000   \n",
       "50%        5.534000               9.569000        0.832000   \n",
       "75%        6.255000              10.421000        0.905000   \n",
       "max        7.842000              11.647000        0.983000   \n",
       "\n",
       "       Healthy life expectancy at birth  Freedom to make life choices  \\\n",
       "count                        149.000000                    149.000000   \n",
       "mean                          64.992799                      0.791597   \n",
       "std                            6.762043                      0.113332   \n",
       "min                           48.478000                      0.382000   \n",
       "25%                           59.802000                      0.718000   \n",
       "50%                           66.603000                      0.804000   \n",
       "75%                           69.600000                      0.877000   \n",
       "max                           76.953000                      0.970000   \n",
       "\n",
       "       Generosity  Perceptions of corruption  \n",
       "count  149.000000                 149.000000  \n",
       "mean    -0.015134                   0.727450  \n",
       "std      0.150657                   0.179226  \n",
       "min     -0.288000                   0.082000  \n",
       "25%     -0.126000                   0.667000  \n",
       "50%     -0.036000                   0.781000  \n",
       "75%      0.079000                   0.845000  \n",
       "max      0.542000                   0.939000  "
      ]
     },
     "execution_count": 112,
     "metadata": {},
     "output_type": "execute_result"
    }
   ],
   "source": [
    "data[data.year==2021].drop('year', axis = 1).describe()"
   ]
  },
  {
   "cell_type": "code",
   "execution_count": 109,
   "metadata": {},
   "outputs": [],
   "source": [
    "# data.groupby(\"Country name\").mean().hist(figsize=(15,8), bins = 50);\n",
    "\n",
    "# # Distribution for average scores for each country is given below"
   ]
  },
  {
   "cell_type": "code",
   "execution_count": 30,
   "metadata": {},
   "outputs": [
    {
     "data": {
      "image/png": "[encoded data removed]",
      "text/plain": [
       "<Figure size 720x432 with 2 Axes>"
      ]
     },
     "metadata": {
      "needs_background": "light"
     },
     "output_type": "display_data"
    }
   ],
   "source": [
    "fig, ax = plt.subplots(figsize = [10,6])\n",
    "sns.heatmap(data.corr(), annot= True, cmap = \"YlGnBu\");"
   ]
  },
  {
   "cell_type": "code",
   "execution_count": 114,
   "metadata": {},
   "outputs": [],
   "source": [
    "# fig, ax = plt.subplots(nrows = 2, ncols = 4, figsize = (15, 8))\n",
    "# sns.boxplot(data.groupby(\"Country name\")[\"Ladder score\"].mean(), orient='v', ax= ax[0,0]);\n",
    "# sns.boxplot(data.groupby(\"Country name\")[\"Logged GDP per capita\"].mean(), orient='v', ax=ax[0,1]);\n",
    "# sns.boxplot(data.groupby(\"Country name\")[\"Social support\"].mean(), ori0ent='v', ax=ax[0,2]);\n",
    "# sns.boxplot(data.groupby(\"Country name\")[\"Healthy life expectancy at birth\"].mean(), orient='v', ax=ax[0,3]);\n",
    "# sns.boxplot(data.groupby(\"Country name\")[\"Freedom to make life choices\"].mean(), orient='v', ax=ax[1,0]);\n",
    "# sns.boxplot(data.groupby(\"Country name\")[\"Generosity\"].mean(), orient='v', ax=ax[1,1]);\n",
    "# sns.boxplot(data.groupby(\"Country name\")[\"Perceptions of corruption\"].mean(), orient='v', ax=ax[1,2]);\n",
    "# plt.tight_layout();\n",
    "# plt.delaxes(ax[1,3]);\n",
    "\n",
    "\n",
    "# # Box plot for average scores by country"
   ]
  },
  {
   "cell_type": "markdown",
   "metadata": {},
   "source": [
    "## Hypothesis test"
   ]
  },
  {
   "cell_type": "markdown",
   "metadata": {},
   "source": [
    "### - Dividing GDP into 2 gategories based on median value: High (>9.46000) and Low (<9.46000) and then conducting hypothesis test for perception of corrptions, social support, freedom to make life choices and life expectancy at birth by diving these data into 2 samples filtered on each GDP category\n"
   ]
  },
  {
   "cell_type": "code",
   "execution_count": 4,
   "metadata": {},
   "outputs": [],
   "source": [
    "import pandas as pd\n",
    "from scipy import stats\n",
    "from statsmodels.stats import weightstats as stests"
   ]
  },
  {
   "cell_type": "code",
   "execution_count": 46,
   "metadata": {},
   "outputs": [
    {
     "name": "stdout",
     "output_type": "stream",
     "text": [
      "<class 'pandas.core.frame.DataFrame'>\n",
      "RangeIndex: 1861 entries, 0 to 1860\n",
      "Data columns (total 10 columns):\n",
      " #   Column                            Non-Null Count  Dtype  \n",
      "---  ------                            --------------  -----  \n",
      " 0   Country name                      1861 non-null   object \n",
      " 1   year                              1861 non-null   int64  \n",
      " 2   Ladder score                      1861 non-null   float64\n",
      " 3   Logged GDP per capita             1861 non-null   float64\n",
      " 4   Social support                    1861 non-null   float64\n",
      " 5   Healthy life expectancy at birth  1861 non-null   float64\n",
      " 6   Freedom to make life choices      1861 non-null   float64\n",
      " 7   Generosity                        1861 non-null   float64\n",
      " 8   Perceptions of corruption         1861 non-null   float64\n",
      " 9   Regional indicator                1861 non-null   object \n",
      "dtypes: float64(7), int64(1), object(2)\n",
      "memory usage: 145.5+ KB\n"
     ]
    }
   ],
   "source": [
    "data.info()"
   ]
  },
  {
   "cell_type": "markdown",
   "metadata": {},
   "source": [
    "#### Life Expectancy at birth and GDP T - test"
   ]
  },
  {
   "cell_type": "code",
   "execution_count": 47,
   "metadata": {},
   "outputs": [
    {
     "data": {
      "text/plain": [
       "(930, 929)"
      ]
     },
     "execution_count": 47,
     "metadata": {},
     "output_type": "execute_result"
    }
   ],
   "source": [
    "# Life Expectancy at birth\n",
    "life_lowG = data[data[\"Logged GDP per capita\"]<9.46000][\"Healthy life expectancy at birth\"]\n",
    "life_highG = data[data[\"Logged GDP per capita\"]>9.46000][\"Healthy life expectancy at birth\"]\n",
    "len(life_lowG) , len(life_highG)"
   ]
  },
  {
   "cell_type": "code",
   "execution_count": 52,
   "metadata": {},
   "outputs": [
    {
     "name": "stdout",
     "output_type": "stream",
     "text": [
      "3.113993871580549e-271\n",
      "reject null hypothesis\n"
     ]
    }
   ],
   "source": [
    "ttest,pval = stats.ttest_ind(life_lowG, life_highG)  # t-test on 2 independent samples\n",
    "print(pval)\n",
    "if pval<0.05:\n",
    "    print(\"reject null hypothesis\")\n",
    "else:\n",
    "    print(\"accept null hypothesis\")"
   ]
  },
  {
   "cell_type": "markdown",
   "metadata": {},
   "source": [
    "- Life expectancy at birth when compared for samples with GDP <9.46 and >9.46 rejects null hypothesis. It means Life expectancy at birth vary significantly for countries with lower GDP than higher."
   ]
  },
  {
   "cell_type": "markdown",
   "metadata": {},
   "source": [
    "#### Freedom to make life choices and GDP T - test"
   ]
  },
  {
   "cell_type": "code",
   "execution_count": 54,
   "metadata": {},
   "outputs": [
    {
     "data": {
      "text/plain": [
       "(930, 929)"
      ]
     },
     "execution_count": 54,
     "metadata": {},
     "output_type": "execute_result"
    }
   ],
   "source": [
    "free_lowG = data[data[\"Logged GDP per capita\"]<9.46000][\"Freedom to make life choices\"]\n",
    "free_highG = data[data[\"Logged GDP per capita\"]>9.46000][\"Freedom to make life choices\"]\n",
    "len(free_lowG) , len(free_highG)"
   ]
  },
  {
   "cell_type": "code",
   "execution_count": 55,
   "metadata": {},
   "outputs": [
    {
     "name": "stdout",
     "output_type": "stream",
     "text": [
      "5.301739118068363e-34\n",
      "reject null hypothesis\n"
     ]
    }
   ],
   "source": [
    "ttest,pval = stats.ttest_ind(free_lowG, free_highG)  # t-test on 2 independent samples\n",
    "print(pval)\n",
    "if pval<0.05:\n",
    "    print(\"reject null hypothesis\")\n",
    "else:\n",
    "    print(\"accept null hypothesis\")"
   ]
  },
  {
   "cell_type": "markdown",
   "metadata": {},
   "source": [
    "- Freedom to make life choices when compared for samples with GDP <9.46 and >9.46 rejects null hypothesis. It means Freedom to make life choices vary significantly for countries with lower GDP than higher."
   ]
  },
  {
   "cell_type": "markdown",
   "metadata": {},
   "source": [
    "#### Social support and GDP T - test"
   ]
  },
  {
   "cell_type": "code",
   "execution_count": 57,
   "metadata": {},
   "outputs": [
    {
     "data": {
      "text/plain": [
       "(930, 929)"
      ]
     },
     "execution_count": 57,
     "metadata": {},
     "output_type": "execute_result"
    }
   ],
   "source": [
    "social_lowG = data[data[\"Logged GDP per capita\"]<9.46000][\"Social support\"]\n",
    "social_highG = data[data[\"Logged GDP per capita\"]>9.46000][\"Social support\"]\n",
    "len(social_lowG) , len(social_highG)"
   ]
  },
  {
   "cell_type": "code",
   "execution_count": 58,
   "metadata": {},
   "outputs": [
    {
     "name": "stdout",
     "output_type": "stream",
     "text": [
      "3.0434786627802876e-177\n",
      "reject null hypothesis\n"
     ]
    }
   ],
   "source": [
    "ttest,pval = stats.ttest_ind(social_lowG, social_highG)  # t-test on 2 independent samples\n",
    "print(pval)\n",
    "if pval<0.05:\n",
    "    print(\"reject null hypothesis\")\n",
    "else:\n",
    "    print(\"accept null hypothesis\")"
   ]
  },
  {
   "cell_type": "markdown",
   "metadata": {},
   "source": [
    "- Social support when compared for samples with GDP <9.46 and >9.46 rejects null hypothesis. It means Social support vary significantly for countries with lower GDP than higher GDP values."
   ]
  },
  {
   "cell_type": "markdown",
   "metadata": {},
   "source": [
    "#### Perceptions of Corruption and GDP T-Test"
   ]
  },
  {
   "cell_type": "code",
   "execution_count": 59,
   "metadata": {},
   "outputs": [
    {
     "data": {
      "text/plain": [
       "(930, 929)"
      ]
     },
     "execution_count": 59,
     "metadata": {},
     "output_type": "execute_result"
    }
   ],
   "source": [
    "corruption_lowG = data[data[\"Logged GDP per capita\"]<9.46000][\"Perceptions of corruption\"]\n",
    "corruption_highG = data[data[\"Logged GDP per capita\"]>9.46000][\"Perceptions of corruption\"]\n",
    "len(corruption_lowG) , len(corruption_highG)"
   ]
  },
  {
   "cell_type": "code",
   "execution_count": 60,
   "metadata": {},
   "outputs": [
    {
     "name": "stdout",
     "output_type": "stream",
     "text": [
      "2.04190804983107e-28\n",
      "reject null hypothesis\n"
     ]
    }
   ],
   "source": [
    "ttest,pval = stats.ttest_ind(corruption_lowG, corruption_highG)  # t-test on 2 independent samples\n",
    "print(pval)\n",
    "if pval<0.05:\n",
    "    print(\"reject null hypothesis\")\n",
    "else:\n",
    "    print(\"accept null hypothesis\")"
   ]
  },
  {
   "cell_type": "markdown",
   "metadata": {},
   "source": [
    "- Perceptions of corruption when compared for samples with GDP <9.46 and >9.46 rejects null hypothesis. It means Perceptions of corruption vary significantly for countries with lower GDP than higher GDP values."
   ]
  },
  {
   "cell_type": "markdown",
   "metadata": {},
   "source": [
    "#### Generosity and GDP T-Test"
   ]
  },
  {
   "cell_type": "code",
   "execution_count": 61,
   "metadata": {},
   "outputs": [
    {
     "data": {
      "text/plain": [
       "(930, 929)"
      ]
     },
     "execution_count": 61,
     "metadata": {},
     "output_type": "execute_result"
    }
   ],
   "source": [
    "gen_lowG = data[data[\"Logged GDP per capita\"]<9.46000][\"Generosity\"]\n",
    "gen_highG = data[data[\"Logged GDP per capita\"]>9.46000][\"Generosity\"]\n",
    "len(corruption_lowG) , len(corruption_highG)"
   ]
  },
  {
   "cell_type": "code",
   "execution_count": 69,
   "metadata": {},
   "outputs": [
    {
     "name": "stdout",
     "output_type": "stream",
     "text": [
      "0.00031300883180986034\n",
      "reject null hypothesis\n"
     ]
    }
   ],
   "source": [
    "ttest,pval = stats.ttest_ind(gen_lowG, gen_highG)  # t-test on 2 independent samples\n",
    "print(pval)\n",
    "if pval<0.05:\n",
    "    print(\"reject null hypothesis\")\n",
    "else:\n",
    "    print(\"accept null hypothesis\")"
   ]
  },
  {
   "cell_type": "markdown",
   "metadata": {},
   "source": [
    "- Generosity when compared for samples with GDP <9.46 and >9.46 rejects null hypothesis. It means Generosity vary significantly for countries with lower GDP than higher GDP values."
   ]
  },
  {
   "cell_type": "markdown",
   "metadata": {},
   "source": [
    "### - Dividing Life Expectancy at birth into 2 gategories based on median value: High (>65.200000) and Low (<65.200000) and then conducting hypothesis test for social support"
   ]
  },
  {
   "cell_type": "markdown",
   "metadata": {},
   "source": [
    "#### Healthy life expectancy at birth and Social support"
   ]
  },
  {
   "cell_type": "code",
   "execution_count": 70,
   "metadata": {},
   "outputs": [
    {
     "data": {
      "text/plain": [
       "(929, 922)"
      ]
     },
     "execution_count": 70,
     "metadata": {},
     "output_type": "execute_result"
    }
   ],
   "source": [
    "he_lowG = data[data[\"Healthy life expectancy at birth\"]<65.200000][\"Social support\"]\n",
    "he_highG = data[data[\"Healthy life expectancy at birth\"]>65.200000][\"Social support\"]\n",
    "len(he_lowG) , len(he_highG)"
   ]
  },
  {
   "cell_type": "code",
   "execution_count": 71,
   "metadata": {},
   "outputs": [
    {
     "name": "stdout",
     "output_type": "stream",
     "text": [
      "1.0550085041287594e-142\n",
      "reject null hypothesis\n"
     ]
    }
   ],
   "source": [
    "ttest,pval = stats.ttest_ind(he_lowG, he_highG)  # t-test on 2 independent samples\n",
    "print(pval)\n",
    "if pval<0.05:\n",
    "    print(\"reject null hypothesis\")\n",
    "else:\n",
    "    print(\"accept null hypothesis\")"
   ]
  },
  {
   "cell_type": "markdown",
   "metadata": {},
   "source": [
    "- Social support when compared for samples with Healthy life expectancy at birth < 65.2 and >65.2 rejects null hypothesis. It means Social support vary significantly for countries with lower Healthy life expectancy at birth than higher values."
   ]
  },
  {
   "cell_type": "markdown",
   "metadata": {},
   "source": [
    "# Anova\n",
    "\n",
    "- Will conduct ANOVA test by diving ladder score into 3 groups : <=3, 3-6, >6\n",
    "- Then I will compare the samples based on this division for all the parameters"
   ]
  },
  {
   "cell_type": "code",
   "execution_count": 76,
   "metadata": {},
   "outputs": [],
   "source": [
    "grp1 = data[data[\"Ladder score\"] <= 3]\n",
    "grp2 = data[(data[\"Ladder score\"] > 3) | (data[\"Ladder score\"] <= 6)]\n",
    "grp3 = data[data[\"Ladder score\"] >6]"
   ]
  },
  {
   "cell_type": "code",
   "execution_count": 77,
   "metadata": {},
   "outputs": [
    {
     "data": {
      "text/plain": [
       "(15, 1861, 592)"
      ]
     },
     "execution_count": 77,
     "metadata": {},
     "output_type": "execute_result"
    }
   ],
   "source": [
    "len(grp1), len(grp2), len(grp3)"
   ]
  },
  {
   "cell_type": "markdown",
   "metadata": {},
   "source": [
    "#### Social support "
   ]
  },
  {
   "cell_type": "code",
   "execution_count": 79,
   "metadata": {},
   "outputs": [
    {
     "name": "stdout",
     "output_type": "stream",
     "text": [
      "p-value for significance is:  2.8664989236501846e-100\n",
      "reject null hypothesis\n"
     ]
    }
   ],
   "source": [
    "F, p = stats.f_oneway(grp1[\"Social support\"], grp2[\"Social support\"], grp3[\"Social support\"])\n",
    "\n",
    "print(\"p-value for significance is: \", p)\n",
    "\n",
    "if p<0.05:\n",
    "    print(\"reject null hypothesis\")\n",
    "else:\n",
    "    print(\"accept null hypothesis\")"
   ]
  },
  {
   "cell_type": "markdown",
   "metadata": {},
   "source": [
    "- Social support scores for countries falling in different ladder score groups vary significantly"
   ]
  },
  {
   "cell_type": "markdown",
   "metadata": {},
   "source": [
    "#### Generosity"
   ]
  },
  {
   "cell_type": "code",
   "execution_count": 81,
   "metadata": {},
   "outputs": [
    {
     "name": "stdout",
     "output_type": "stream",
     "text": [
      "p-value for significance is:  1.6545367582319158e-08\n",
      "reject null hypothesis\n"
     ]
    }
   ],
   "source": [
    "F, p = stats.f_oneway(grp1[\"Generosity\"], grp2[\"Generosity\"], grp3[\"Generosity\"])\n",
    "\n",
    "print(\"p-value for significance is: \", p)\n",
    "\n",
    "if p<0.05:\n",
    "    print(\"reject null hypothesis\")\n",
    "else:\n",
    "    print(\"accept null hypothesis\")"
   ]
  },
  {
   "cell_type": "markdown",
   "metadata": {},
   "source": [
    "-  Generosity scores for countries falling in different ladder score groups vary significantly."
   ]
  },
  {
   "cell_type": "markdown",
   "metadata": {},
   "source": [
    "#### Perceptions of corruption"
   ]
  },
  {
   "cell_type": "code",
   "execution_count": 82,
   "metadata": {},
   "outputs": [
    {
     "name": "stdout",
     "output_type": "stream",
     "text": [
      "p-value for significance is:  3.1073465341901075e-39\n",
      "reject null hypothesis\n"
     ]
    }
   ],
   "source": [
    "F, p = stats.f_oneway(grp1[\"Perceptions of corruption\"], grp2[\"Perceptions of corruption\"], grp3[\"Perceptions of corruption\"])\n",
    "\n",
    "print(\"p-value for significance is: \", p)\n",
    "\n",
    "if p<0.05:\n",
    "    print(\"reject null hypothesis\")\n",
    "else:\n",
    "    print(\"accept null hypothesis\")"
   ]
  },
  {
   "cell_type": "markdown",
   "metadata": {},
   "source": [
    "- Perceptions of corruption for countries falling in different ladder score groups vary significantly."
   ]
  },
  {
   "cell_type": "markdown",
   "metadata": {},
   "source": [
    "#### Logged GDP per capita"
   ]
  },
  {
   "cell_type": "code",
   "execution_count": 83,
   "metadata": {},
   "outputs": [
    {
     "name": "stdout",
     "output_type": "stream",
     "text": [
      "p-value for significance is:  5.070657220580271e-103\n",
      "reject null hypothesis\n"
     ]
    }
   ],
   "source": [
    "F, p = stats.f_oneway(grp1[\"Logged GDP per capita\"], grp2[\"Logged GDP per capita\"], grp3[\"Logged GDP per capita\"])\n",
    "\n",
    "print(\"p-value for significance is: \", p)\n",
    "\n",
    "if p<0.05:\n",
    "    print(\"reject null hypothesis\")\n",
    "else:\n",
    "    print(\"accept null hypothesis\")"
   ]
  },
  {
   "cell_type": "markdown",
   "metadata": {},
   "source": [
    "- Logged GDP per capita for countries falling in different ladder score groups vary significantly."
   ]
  },
  {
   "cell_type": "markdown",
   "metadata": {},
   "source": [
    "#### Healthy life expectancy at birth"
   ]
  },
  {
   "cell_type": "code",
   "execution_count": 84,
   "metadata": {},
   "outputs": [
    {
     "name": "stdout",
     "output_type": "stream",
     "text": [
      "p-value for significance is:  5.313061150894097e-96\n",
      "reject null hypothesis\n"
     ]
    }
   ],
   "source": [
    "F, p = stats.f_oneway(grp1[\"Healthy life expectancy at birth\"], grp2[\"Healthy life expectancy at birth\"], grp3[\"Healthy life expectancy at birth\"])\n",
    "\n",
    "print(\"p-value for significance is: \", p)\n",
    "\n",
    "if p<0.05:\n",
    "    print(\"reject null hypothesis\")\n",
    "else:\n",
    "    print(\"accept null hypothesis\")"
   ]
  },
  {
   "cell_type": "markdown",
   "metadata": {},
   "source": [
    "- Healthy life expectancy at birth for countries falling in different ladder score groups vary significantly."
   ]
  },
  {
   "cell_type": "markdown",
   "metadata": {},
   "source": [
    "#### Freedom to make life choices"
   ]
  },
  {
   "cell_type": "code",
   "execution_count": 85,
   "metadata": {},
   "outputs": [
    {
     "name": "stdout",
     "output_type": "stream",
     "text": [
      "p-value for significance is:  9.868336143992733e-62\n",
      "reject null hypothesis\n"
     ]
    }
   ],
   "source": [
    "F, p = stats.f_oneway(grp1[\"Freedom to make life choices\"], grp2[\"Freedom to make life choices\"], grp3[\"Freedom to make life choices\"])\n",
    "\n",
    "print(\"p-value for significance is: \", p)\n",
    "\n",
    "if p<0.05:\n",
    "    print(\"reject null hypothesis\")\n",
    "else:\n",
    "    print(\"accept null hypothesis\")"
   ]
  },
  {
   "cell_type": "markdown",
   "metadata": {},
   "source": [
    "- Freedom to make life choices for countries falling in different ladder score groups vary significantly."
   ]
  },
  {
   "cell_type": "markdown",
   "metadata": {},
   "source": [
    "# Chi- Square\n",
    "- Comparison of 3 groups of ladder score with the different regions that countries fall in.\n",
    "- null hypothesis is that both variables are independent and alternate hypothesis is that both variables are not independent"
   ]
  },
  {
   "cell_type": "code",
   "execution_count": 97,
   "metadata": {},
   "outputs": [
    {
     "name": "stderr",
     "output_type": "stream",
     "text": [
      "C:\\Users\\iamrr\\Anaconda3\\lib\\site-packages\\ipykernel_launcher.py:1: SettingWithCopyWarning:\n",
      "\n",
      "\n",
      "A value is trying to be set on a copy of a slice from a DataFrame.\n",
      "Try using .loc[row_indexer,col_indexer] = value instead\n",
      "\n",
      "See the caveats in the documentation: https://pandas.pydata.org/pandas-docs/stable/user_guide/indexing.html#returning-a-view-versus-a-copy\n",
      "\n",
      "C:\\Users\\iamrr\\Anaconda3\\lib\\site-packages\\ipykernel_launcher.py:3: SettingWithCopyWarning:\n",
      "\n",
      "\n",
      "A value is trying to be set on a copy of a slice from a DataFrame.\n",
      "Try using .loc[row_indexer,col_indexer] = value instead\n",
      "\n",
      "See the caveats in the documentation: https://pandas.pydata.org/pandas-docs/stable/user_guide/indexing.html#returning-a-view-versus-a-copy\n",
      "\n"
     ]
    }
   ],
   "source": [
    "grp1[\"Ladder_score_grp\"] = \"Low Ladder score\"\n",
    "grp2[\"Ladder_score_grp\"] = \"Medium Ladder score\"\n",
    "grp3[\"Ladder_score_grp\"] = \"High Ladder score\""
   ]
  },
  {
   "cell_type": "code",
   "execution_count": 101,
   "metadata": {},
   "outputs": [],
   "source": [
    "chi = pd.concat([grp1, grp2, grp3], axis =0)"
   ]
  },
  {
   "cell_type": "code",
   "execution_count": 108,
   "metadata": {},
   "outputs": [
    {
     "data": {
      "text/html": [
       "<div>\n",
       "<style scoped>\n",
       "    .dataframe tbody tr th:only-of-type {\n",
       "        vertical-align: middle;\n",
       "    }\n",
       "\n",
       "    .dataframe tbody tr th {\n",
       "        vertical-align: top;\n",
       "    }\n",
       "\n",
       "    .dataframe thead th {\n",
       "        text-align: right;\n",
       "    }\n",
       "</style>\n",
       "<table border=\"1\" class=\"dataframe\">\n",
       "  <thead>\n",
       "    <tr style=\"text-align: right;\">\n",
       "      <th>Regional indicator</th>\n",
       "      <th>Central and Eastern Europe</th>\n",
       "      <th>Commonwealth of Independent States</th>\n",
       "      <th>East Asia</th>\n",
       "      <th>Latin America and Caribbean</th>\n",
       "      <th>Middle East and North Africa</th>\n",
       "      <th>North America and ANZ</th>\n",
       "      <th>Not Specified</th>\n",
       "      <th>South Asia</th>\n",
       "      <th>Southeast Asia</th>\n",
       "      <th>Sub-Saharan Africa</th>\n",
       "      <th>Western Europe</th>\n",
       "    </tr>\n",
       "    <tr>\n",
       "      <th>Ladder_score_grp</th>\n",
       "      <th></th>\n",
       "      <th></th>\n",
       "      <th></th>\n",
       "      <th></th>\n",
       "      <th></th>\n",
       "      <th></th>\n",
       "      <th></th>\n",
       "      <th></th>\n",
       "      <th></th>\n",
       "      <th></th>\n",
       "      <th></th>\n",
       "    </tr>\n",
       "  </thead>\n",
       "  <tbody>\n",
       "    <tr>\n",
       "      <th>High Ladder score</th>\n",
       "      <td>60</td>\n",
       "      <td>13</td>\n",
       "      <td>10</td>\n",
       "      <td>154</td>\n",
       "      <td>27</td>\n",
       "      <td>58</td>\n",
       "      <td>7</td>\n",
       "      <td>0</td>\n",
       "      <td>26</td>\n",
       "      <td>4</td>\n",
       "      <td>233</td>\n",
       "    </tr>\n",
       "    <tr>\n",
       "      <th>Low Ladder score</th>\n",
       "      <td>0</td>\n",
       "      <td>0</td>\n",
       "      <td>0</td>\n",
       "      <td>0</td>\n",
       "      <td>1</td>\n",
       "      <td>0</td>\n",
       "      <td>2</td>\n",
       "      <td>4</td>\n",
       "      <td>0</td>\n",
       "      <td>8</td>\n",
       "      <td>0</td>\n",
       "    </tr>\n",
       "    <tr>\n",
       "      <th>Medium Ladder score</th>\n",
       "      <td>224</td>\n",
       "      <td>165</td>\n",
       "      <td>49</td>\n",
       "      <td>292</td>\n",
       "      <td>138</td>\n",
       "      <td>58</td>\n",
       "      <td>45</td>\n",
       "      <td>87</td>\n",
       "      <td>116</td>\n",
       "      <td>421</td>\n",
       "      <td>266</td>\n",
       "    </tr>\n",
       "  </tbody>\n",
       "</table>\n",
       "</div>"
      ],
      "text/plain": [
       "Regional indicator   Central and Eastern Europe  \\\n",
       "Ladder_score_grp                                  \n",
       "High Ladder score                            60   \n",
       "Low Ladder score                              0   \n",
       "Medium Ladder score                         224   \n",
       "\n",
       "Regional indicator   Commonwealth of Independent States  East Asia  \\\n",
       "Ladder_score_grp                                                     \n",
       "High Ladder score                                    13         10   \n",
       "Low Ladder score                                      0          0   \n",
       "Medium Ladder score                                 165         49   \n",
       "\n",
       "Regional indicator   Latin America and Caribbean  \\\n",
       "Ladder_score_grp                                   \n",
       "High Ladder score                            154   \n",
       "Low Ladder score                               0   \n",
       "Medium Ladder score                          292   \n",
       "\n",
       "Regional indicator   Middle East and North Africa  North America and ANZ  \\\n",
       "Ladder_score_grp                                                           \n",
       "High Ladder score                              27                     58   \n",
       "Low Ladder score                                1                      0   \n",
       "Medium Ladder score                           138                     58   \n",
       "\n",
       "Regional indicator   Not Specified  South Asia  Southeast Asia  \\\n",
       "Ladder_score_grp                                                 \n",
       "High Ladder score                7           0              26   \n",
       "Low Ladder score                 2           4               0   \n",
       "Medium Ladder score             45          87             116   \n",
       "\n",
       "Regional indicator   Sub-Saharan Africa  Western Europe  \n",
       "Ladder_score_grp                                         \n",
       "High Ladder score                     4             233  \n",
       "Low Ladder score                      8               0  \n",
       "Medium Ladder score                 421             266  "
      ]
     },
     "execution_count": 108,
     "metadata": {},
     "output_type": "execute_result"
    }
   ],
   "source": [
    "contingency_table = pd.crosstab(chi[\"Ladder_score_grp\"], chi[\"Regional indicator\"])\n",
    "contingency_table"
   ]
  },
  {
   "cell_type": "code",
   "execution_count": 111,
   "metadata": {},
   "outputs": [
    {
     "data": {
      "text/plain": [
       "array([[ 60,  13,  10, 154,  27,  58,   7,   0,  26,   4, 233],\n",
       "       [  0,   0,   0,   0,   1,   0,   2,   4,   0,   8,   0],\n",
       "       [224, 165,  49, 292, 138,  58,  45,  87, 116, 421, 266]],\n",
       "      dtype=int64)"
      ]
     },
     "execution_count": 111,
     "metadata": {},
     "output_type": "execute_result"
    }
   ],
   "source": [
    "Observed_Values = contingency_table.values \n",
    "Observed_Values"
   ]
  },
  {
   "cell_type": "code",
   "execution_count": 113,
   "metadata": {},
   "outputs": [
    {
     "data": {
      "text/plain": [
       "array([[6.81231767e+01, 4.26969206e+01, 1.41523501e+01, 1.06982172e+02,\n",
       "        3.98184765e+01, 2.78249595e+01, 1.29529984e+01, 2.18282010e+01,\n",
       "        3.40615883e+01, 1.03863857e+02, 1.19695300e+02],\n",
       "       [1.72609400e+00, 1.08184765e+00, 3.58589951e-01, 2.71069692e+00,\n",
       "        1.00891410e+00, 7.05024311e-01, 3.28200972e-01, 5.53079417e-01,\n",
       "        8.63047002e-01, 2.63168558e+00, 3.03282010e+00],\n",
       "       [2.14150729e+02, 1.34221232e+02, 4.44890600e+01, 3.36307131e+02,\n",
       "        1.25172609e+02, 8.74700162e+01, 4.07188006e+01, 6.86187196e+01,\n",
       "        1.07075365e+02, 3.26504457e+02, 3.76271880e+02]])"
      ]
     },
     "execution_count": 113,
     "metadata": {},
     "output_type": "execute_result"
    }
   ],
   "source": [
    "b=stats.chi2_contingency(contingency_table)\n",
    "Expected_Values = b[3]\n",
    "Expected_Values"
   ]
  },
  {
   "cell_type": "code",
   "execution_count": 118,
   "metadata": {},
   "outputs": [
    {
     "name": "stdout",
     "output_type": "stream",
     "text": [
      "Rows :3\n",
      "Columns :11\n",
      "Degree of Freedom:- 20\n"
     ]
    }
   ],
   "source": [
    "no_of_rows = len(contingency_table.iloc[:,0])\n",
    "print(\"Rows :\" + str(no_of_rows))\n",
    "no_of_columns = len(contingency_table.iloc[0,:])\n",
    "print(\"Columns :\" + str(no_of_columns))\n",
    "df11 = (no_of_rows-1)*(no_of_columns-1)\n",
    "print(\"Degree of Freedom:-\",df11)\n",
    "alpha = 0.05"
   ]
  },
  {
   "cell_type": "code",
   "execution_count": 119,
   "metadata": {},
   "outputs": [
    {
     "name": "stdout",
     "output_type": "stream",
     "text": [
      "chi-square statistic:- 31.942604282067535\n"
     ]
    }
   ],
   "source": [
    "from scipy.stats import chi2\n",
    "chi_square=sum([(o-e)**2./e for o,e in zip(Observed_Values,Expected_Values)])\n",
    "chi_square_statistic=chi_square[0]+chi_square[1]\n",
    "print(\"chi-square statistic:-\",chi_square_statistic)"
   ]
  },
  {
   "cell_type": "code",
   "execution_count": 120,
   "metadata": {},
   "outputs": [
    {
     "name": "stdout",
     "output_type": "stream",
     "text": [
      "critical_value: 31.410432844230918\n"
     ]
    }
   ],
   "source": [
    "critical_value=chi2.ppf(q=1-alpha,df=df11)\n",
    "print('critical_value:',critical_value)"
   ]
  },
  {
   "cell_type": "code",
   "execution_count": 122,
   "metadata": {},
   "outputs": [
    {
     "name": "stdout",
     "output_type": "stream",
     "text": [
      "p-value: 0.0439137502423842\n"
     ]
    }
   ],
   "source": [
    "#p-value\n",
    "p_value=1-chi2.cdf(x=chi_square_statistic,df=df11)\n",
    "print('p-value:',p_value)"
   ]
  },
  {
   "cell_type": "code",
   "execution_count": 123,
   "metadata": {},
   "outputs": [
    {
     "name": "stdout",
     "output_type": "stream",
     "text": [
      "Reject H0,There is a relationship between 2 categorical variables\n",
      "Reject H0,There is a relationship between 2 categorical variables\n"
     ]
    }
   ],
   "source": [
    "if chi_square_statistic>=critical_value:\n",
    "    print(\"Reject H0,There is a relationship between 2 categorical variables\")\n",
    "else:\n",
    "    print(\"Retain H0,There is no relationship between 2 categorical variables\")\n",
    "    \n",
    "if p_value<=alpha:\n",
    "    print(\"Reject H0,There is a relationship between 2 categorical variables\")\n",
    "else:\n",
    "    print(\"Retain H0,There is no relationship between 2 categorical variables\")"
   ]
  },
  {
   "cell_type": "markdown",
   "metadata": {},
   "source": [
    "# Regression Analysis"
   ]
  },
  {
   "cell_type": "code",
   "execution_count": 15,
   "metadata": {},
   "outputs": [],
   "source": [
    "import statsmodels.api as sm"
   ]
  },
  {
   "cell_type": "code",
   "execution_count": 4,
   "metadata": {},
   "outputs": [
    {
     "name": "stdout",
     "output_type": "stream",
     "text": [
      "<class 'pandas.core.frame.DataFrame'>\n",
      "RangeIndex: 1861 entries, 0 to 1860\n",
      "Data columns (total 10 columns):\n",
      " #   Column                            Non-Null Count  Dtype  \n",
      "---  ------                            --------------  -----  \n",
      " 0   Country name                      1861 non-null   object \n",
      " 1   year                              1861 non-null   int64  \n",
      " 2   Ladder score                      1861 non-null   float64\n",
      " 3   Logged GDP per capita             1861 non-null   float64\n",
      " 4   Social support                    1861 non-null   float64\n",
      " 5   Healthy life expectancy at birth  1861 non-null   float64\n",
      " 6   Freedom to make life choices      1861 non-null   float64\n",
      " 7   Generosity                        1861 non-null   float64\n",
      " 8   Perceptions of corruption         1861 non-null   float64\n",
      " 9   Regional indicator                1861 non-null   object \n",
      "dtypes: float64(7), int64(1), object(2)\n",
      "memory usage: 145.5+ KB\n"
     ]
    }
   ],
   "source": [
    "data.info()"
   ]
  },
  {
   "cell_type": "code",
   "execution_count": 5,
   "metadata": {},
   "outputs": [
    {
     "data": {
      "text/html": [
       "<div>\n",
       "<style scoped>\n",
       "    .dataframe tbody tr th:only-of-type {\n",
       "        vertical-align: middle;\n",
       "    }\n",
       "\n",
       "    .dataframe tbody tr th {\n",
       "        vertical-align: top;\n",
       "    }\n",
       "\n",
       "    .dataframe thead th {\n",
       "        text-align: right;\n",
       "    }\n",
       "</style>\n",
       "<table border=\"1\" class=\"dataframe\">\n",
       "  <thead>\n",
       "    <tr style=\"text-align: right;\">\n",
       "      <th></th>\n",
       "      <th>Country name</th>\n",
       "      <th>year</th>\n",
       "      <th>Ladder score</th>\n",
       "      <th>Logged GDP per capita</th>\n",
       "      <th>Social support</th>\n",
       "      <th>Healthy life expectancy at birth</th>\n",
       "      <th>Freedom to make life choices</th>\n",
       "      <th>Generosity</th>\n",
       "      <th>Perceptions of corruption</th>\n",
       "      <th>Regional indicator</th>\n",
       "    </tr>\n",
       "  </thead>\n",
       "  <tbody>\n",
       "    <tr>\n",
       "      <th>0</th>\n",
       "      <td>Afghanistan</td>\n",
       "      <td>2008</td>\n",
       "      <td>3.724</td>\n",
       "      <td>7.370</td>\n",
       "      <td>0.451</td>\n",
       "      <td>50.80</td>\n",
       "      <td>0.718</td>\n",
       "      <td>0.168</td>\n",
       "      <td>0.882</td>\n",
       "      <td>South Asia</td>\n",
       "    </tr>\n",
       "    <tr>\n",
       "      <th>1</th>\n",
       "      <td>Afghanistan</td>\n",
       "      <td>2009</td>\n",
       "      <td>4.402</td>\n",
       "      <td>7.540</td>\n",
       "      <td>0.552</td>\n",
       "      <td>51.20</td>\n",
       "      <td>0.679</td>\n",
       "      <td>0.190</td>\n",
       "      <td>0.850</td>\n",
       "      <td>South Asia</td>\n",
       "    </tr>\n",
       "    <tr>\n",
       "      <th>2</th>\n",
       "      <td>Afghanistan</td>\n",
       "      <td>2010</td>\n",
       "      <td>4.758</td>\n",
       "      <td>7.647</td>\n",
       "      <td>0.539</td>\n",
       "      <td>51.60</td>\n",
       "      <td>0.600</td>\n",
       "      <td>0.121</td>\n",
       "      <td>0.707</td>\n",
       "      <td>South Asia</td>\n",
       "    </tr>\n",
       "    <tr>\n",
       "      <th>3</th>\n",
       "      <td>Afghanistan</td>\n",
       "      <td>2011</td>\n",
       "      <td>3.832</td>\n",
       "      <td>7.620</td>\n",
       "      <td>0.521</td>\n",
       "      <td>51.92</td>\n",
       "      <td>0.496</td>\n",
       "      <td>0.162</td>\n",
       "      <td>0.731</td>\n",
       "      <td>South Asia</td>\n",
       "    </tr>\n",
       "    <tr>\n",
       "      <th>4</th>\n",
       "      <td>Afghanistan</td>\n",
       "      <td>2012</td>\n",
       "      <td>3.783</td>\n",
       "      <td>7.705</td>\n",
       "      <td>0.521</td>\n",
       "      <td>52.24</td>\n",
       "      <td>0.531</td>\n",
       "      <td>0.236</td>\n",
       "      <td>0.776</td>\n",
       "      <td>South Asia</td>\n",
       "    </tr>\n",
       "  </tbody>\n",
       "</table>\n",
       "</div>"
      ],
      "text/plain": [
       "  Country name  year  Ladder score  Logged GDP per capita  Social support  \\\n",
       "0  Afghanistan  2008         3.724                  7.370           0.451   \n",
       "1  Afghanistan  2009         4.402                  7.540           0.552   \n",
       "2  Afghanistan  2010         4.758                  7.647           0.539   \n",
       "3  Afghanistan  2011         3.832                  7.620           0.521   \n",
       "4  Afghanistan  2012         3.783                  7.705           0.521   \n",
       "\n",
       "   Healthy life expectancy at birth  Freedom to make life choices  Generosity  \\\n",
       "0                             50.80                         0.718       0.168   \n",
       "1                             51.20                         0.679       0.190   \n",
       "2                             51.60                         0.600       0.121   \n",
       "3                             51.92                         0.496       0.162   \n",
       "4                             52.24                         0.531       0.236   \n",
       "\n",
       "   Perceptions of corruption Regional indicator  \n",
       "0                      0.882         South Asia  \n",
       "1                      0.850         South Asia  \n",
       "2                      0.707         South Asia  \n",
       "3                      0.731         South Asia  \n",
       "4                      0.776         South Asia  "
      ]
     },
     "execution_count": 5,
     "metadata": {},
     "output_type": "execute_result"
    }
   ],
   "source": [
    "data.head()"
   ]
  },
  {
   "cell_type": "markdown",
   "metadata": {},
   "source": [
    "## - Simple linear regression taking GDP as response and social support as predictor to check the relation"
   ]
  },
  {
   "cell_type": "code",
   "execution_count": 35,
   "metadata": {},
   "outputs": [],
   "source": [
    "# X = data[[\"Ladder score\", \"Social support\", \"Healthy life expectancy at birth\"]]\n",
    "X= data[\"Social support\"]\n",
    "y = data[\"Logged GDP per capita\"]"
   ]
  },
  {
   "cell_type": "code",
   "execution_count": 36,
   "metadata": {},
   "outputs": [],
   "source": [
    "model = sm.OLS(y, X).fit()"
   ]
  },
  {
   "cell_type": "code",
   "execution_count": 37,
   "metadata": {},
   "outputs": [
    {
     "name": "stdout",
     "output_type": "stream",
     "text": [
      "                                  OLS Regression Results                                  \n",
      "==========================================================================================\n",
      "Dep. Variable:     Logged GDP per capita   R-squared (uncentered):                   0.989\n",
      "Model:                               OLS   Adj. R-squared (uncentered):              0.989\n",
      "Method:                    Least Squares   F-statistic:                          1.663e+05\n",
      "Date:                   Fri, 23 Jul 2021   Prob (F-statistic):                        0.00\n",
      "Time:                           01:47:54   Log-Likelihood:                         -2619.6\n",
      "No. Observations:                   1861   AIC:                                      5241.\n",
      "Df Residuals:                       1860   BIC:                                      5247.\n",
      "Df Model:                              1                                                  \n",
      "Covariance Type:               nonrobust                                                  \n",
      "==================================================================================\n",
      "                     coef    std err          t      P>|t|      [0.025      0.975]\n",
      "----------------------------------------------------------------------------------\n",
      "Social support    11.4071      0.028    407.751      0.000      11.352      11.462\n",
      "==============================================================================\n",
      "Omnibus:                      100.076   Durbin-Watson:                   0.573\n",
      "Prob(Omnibus):                  0.000   Jarque-Bera (JB):              150.540\n",
      "Skew:                           0.459   Prob(JB):                     2.05e-33\n",
      "Kurtosis:                       4.049   Cond. No.                         1.00\n",
      "==============================================================================\n",
      "\n",
      "Warnings:\n",
      "[1] Standard Errors assume that the covariance matrix of the errors is correctly specified.\n"
     ]
    }
   ],
   "source": [
    "print(model.summary())"
   ]
  },
  {
   "cell_type": "markdown",
   "metadata": {},
   "source": [
    "**- p value of F- statistic is significant. Social support itself explains 98.9% of the GDP score for the countries (Adj R sq = 0.989). P-value of social support is also significant.**"
   ]
  },
  {
   "cell_type": "markdown",
   "metadata": {},
   "source": [
    "## - Simple linear regression taking Freedom to make life choices as response and social support as predictor to check the relation"
   ]
  },
  {
   "cell_type": "code",
   "execution_count": 38,
   "metadata": {},
   "outputs": [],
   "source": [
    "# X = data[[\"Ladder score\", \"Social support\", \"Healthy life expectancy at birth\"]]\n",
    "X1= data[\"Social support\"]\n",
    "y1 = data[\"Healthy life expectancy at birth\"]"
   ]
  },
  {
   "cell_type": "code",
   "execution_count": 39,
   "metadata": {},
   "outputs": [],
   "source": [
    "model1 = sm.OLS(y1, X1).fit()"
   ]
  },
  {
   "cell_type": "code",
   "execution_count": 40,
   "metadata": {},
   "outputs": [
    {
     "name": "stdout",
     "output_type": "stream",
     "text": [
      "                                        OLS Regression Results                                       \n",
      "=====================================================================================================\n",
      "Dep. Variable:     Healthy life expectancy at birth   R-squared (uncentered):                   0.986\n",
      "Model:                                          OLS   Adj. R-squared (uncentered):              0.986\n",
      "Method:                               Least Squares   F-statistic:                          1.304e+05\n",
      "Date:                              Fri, 23 Jul 2021   Prob (F-statistic):                        0.00\n",
      "Time:                                      01:49:14   Log-Likelihood:                         -6407.3\n",
      "No. Observations:                              1861   AIC:                                  1.282e+04\n",
      "Df Residuals:                                  1860   BIC:                                  1.282e+04\n",
      "Df Model:                                         1                                                  \n",
      "Covariance Type:                          nonrobust                                                  \n",
      "==================================================================================\n",
      "                     coef    std err          t      P>|t|      [0.025      0.975]\n",
      "----------------------------------------------------------------------------------\n",
      "Social support    77.3218      0.214    361.087      0.000      76.902      77.742\n",
      "==============================================================================\n",
      "Omnibus:                       85.595   Durbin-Watson:                   0.536\n",
      "Prob(Omnibus):                  0.000   Jarque-Bera (JB):              126.900\n",
      "Skew:                           0.411   Prob(JB):                     2.78e-28\n",
      "Kurtosis:                       3.979   Cond. No.                         1.00\n",
      "==============================================================================\n",
      "\n",
      "Warnings:\n",
      "[1] Standard Errors assume that the covariance matrix of the errors is correctly specified.\n"
     ]
    }
   ],
   "source": [
    "print(model1.summary())"
   ]
  },
  {
   "cell_type": "markdown",
   "metadata": {},
   "source": [
    "- p value of F- statistic is significant. Social support  explains 98.6% variation of the Healthy life expectancy at birth score for the countries (Adj R sq = 0.986). P-value of social support is also significant."
   ]
  },
  {
   "cell_type": "code",
   "execution_count": null,
   "metadata": {},
   "outputs": [],
   "source": []
  },
  {
   "cell_type": "markdown",
   "metadata": {},
   "source": [
    "### CASE 1 : Multiple linear regression taking Ladder score (happiness index) as response and social support, GDP, Life expectancy, Freedom to make life choices, generosity and Perceptions of corruption as predictors to check the relation and make prediction.I am using the data till 2020 to predict the ladder scores of countries for 2021.¶"
   ]
  },
  {
   "cell_type": "code",
   "execution_count": 66,
   "metadata": {},
   "outputs": [],
   "source": [
    "data1 = data.copy()"
   ]
  },
  {
   "cell_type": "code",
   "execution_count": 67,
   "metadata": {},
   "outputs": [],
   "source": [
    "test = data1[data1.year== 2021]  # happiness index for 2021 to be predicted for countries"
   ]
  },
  {
   "cell_type": "code",
   "execution_count": 68,
   "metadata": {},
   "outputs": [],
   "source": [
    "# tTest data on which model will predict and will be evaluated\n",
    "df_test=test.drop(columns=[\"Country name\", \"year\", \"Regional indicator\"], axis=1)\n",
    "df_test_Y = df_test[\"Ladder score\"]\n",
    "df_test_X = df_test.drop(columns=[\"Ladder score\"], axis = 1)"
   ]
  },
  {
   "cell_type": "code",
   "execution_count": 69,
   "metadata": {},
   "outputs": [],
   "source": [
    "train = data1.loc[data1.year !=2021, :] # data till year 2020 taken as train data"
   ]
  },
  {
   "cell_type": "code",
   "execution_count": 70,
   "metadata": {},
   "outputs": [],
   "source": [
    "# Train Data for model building\n",
    "df_train = train.drop(columns=[\"Country name\", \"year\", \"Regional indicator\"], axis=1)"
   ]
  },
  {
   "cell_type": "code",
   "execution_count": 71,
   "metadata": {},
   "outputs": [],
   "source": [
    "df_train_Y = df_train[\"Ladder score\"]\n",
    "df_train_X = df_train.drop(columns=[\"Ladder score\"], axis = 1)"
   ]
  },
  {
   "cell_type": "code",
   "execution_count": 72,
   "metadata": {},
   "outputs": [],
   "source": [
    "model = sm.OLS(df_train_Y, df_train_X).fit()"
   ]
  },
  {
   "cell_type": "code",
   "execution_count": 73,
   "metadata": {},
   "outputs": [
    {
     "name": "stdout",
     "output_type": "stream",
     "text": [
      "                                 OLS Regression Results                                \n",
      "=======================================================================================\n",
      "Dep. Variable:           Ladder score   R-squared (uncentered):                   0.989\n",
      "Model:                            OLS   Adj. R-squared (uncentered):              0.989\n",
      "Method:                 Least Squares   F-statistic:                          2.543e+04\n",
      "Date:                Fri, 23 Jul 2021   Prob (F-statistic):                        0.00\n",
      "Time:                        02:13:33   Log-Likelihood:                         -1511.0\n",
      "No. Observations:                1712   AIC:                                      3034.\n",
      "Df Residuals:                    1706   BIC:                                      3067.\n",
      "Df Model:                           6                                                  \n",
      "Covariance Type:            nonrobust                                                  \n",
      "====================================================================================================\n",
      "                                       coef    std err          t      P>|t|      [0.025      0.975]\n",
      "----------------------------------------------------------------------------------------------------\n",
      "Logged GDP per capita                0.2967      0.027     11.138      0.000       0.244       0.349\n",
      "Social support                       2.3865      0.171     13.928      0.000       2.050       2.723\n",
      "Healthy life expectancy at birth     0.0222      0.004      6.145      0.000       0.015       0.029\n",
      "Freedom to make life choices         0.5060      0.116      4.380      0.000       0.279       0.733\n",
      "Generosity                           0.6183      0.095      6.487      0.000       0.431       0.805\n",
      "Perceptions of corruption           -1.3573      0.064    -21.227      0.000      -1.483      -1.232\n",
      "==============================================================================\n",
      "Omnibus:                       48.663   Durbin-Watson:                   0.552\n",
      "Prob(Omnibus):                  0.000   Jarque-Bera (JB):               62.998\n",
      "Skew:                          -0.323   Prob(JB):                     2.09e-14\n",
      "Kurtosis:                       3.682   Cond. No.                         803.\n",
      "==============================================================================\n",
      "\n",
      "Warnings:\n",
      "[1] Standard Errors assume that the covariance matrix of the errors is correctly specified.\n"
     ]
    }
   ],
   "source": [
    "print(model.summary())"
   ]
  },
  {
   "cell_type": "code",
   "execution_count": 74,
   "metadata": {},
   "outputs": [
    {
     "data": {
      "image/png": "[encoded data removed]",
      "text/plain": [
       "<Figure size 432x288 with 1 Axes>"
      ]
     },
     "metadata": {
      "needs_background": "light"
     },
     "output_type": "display_data"
    }
   ],
   "source": [
    "plt.figure()\n",
    "sns.regplot(y = model.resid, x = model.fittedvalues);   # residual plot\n",
    "plt.xlabel('Predicted output')\n",
    "plt.ylabel('Errors');"
   ]
  },
  {
   "cell_type": "code",
   "execution_count": 44,
   "metadata": {},
   "outputs": [
    {
     "data": {
      "image/png": "[encoded data removed]",
      "text/plain": [
       "<Figure size 432x288 with 1 Axes>"
      ]
     },
     "metadata": {
      "needs_background": "light"
     },
     "output_type": "display_data"
    }
   ],
   "source": [
    "fig = sm.qqplot( model.resid.values, stats.t,fit=True, line=\"45\")\n",
    "plt.show()"
   ]
  },
  {
   "cell_type": "code",
   "execution_count": 50,
   "metadata": {},
   "outputs": [
    {
     "data": {
      "image/png": "[encoded data removed]",
      "text/plain": [
       "<Figure size 432x288 with 1 Axes>"
      ]
     },
     "metadata": {
      "needs_background": "light"
     },
     "output_type": "display_data"
    }
   ],
   "source": [
    "plt.hist( model.resid.values, bins = 50);"
   ]
  },
  {
   "cell_type": "markdown",
   "metadata": {},
   "source": [
    "**- p-value of F-stat is significant and based upon adjusted R^2 value, predictors are explaining 98.9% of the variation in ladder score, and each predictor is significant as well, given the p-value of t-stat for each predcitor.**"
   ]
  },
  {
   "cell_type": "code",
   "execution_count": 13,
   "metadata": {},
   "outputs": [],
   "source": [
    "# Predicting on test data\n",
    "y_pred = model.predict(df_test_X)"
   ]
  },
  {
   "cell_type": "code",
   "execution_count": 23,
   "metadata": {},
   "outputs": [],
   "source": [
    "from sklearn.metrics import mean_squared_error as mse"
   ]
  },
  {
   "cell_type": "code",
   "execution_count": 15,
   "metadata": {},
   "outputs": [
    {
     "name": "stdout",
     "output_type": "stream",
     "text": [
      "Baseline model result (sum(y-ybar)^2)/n : 1.1455714774109274\n",
      "mean sq err = 0.3183507480968029 and rmse = 0.5642257953131911\n"
     ]
    }
   ],
   "source": [
    "# Checking model's performance\n",
    "mean_sq_err = mse(df_test_Y, y_pred)\n",
    "ml = (np.sum((df_test_Y - df_test_Y.mean())**2))/len(df_test_Y)\n",
    "print(f'Baseline model result (sum(y-ybar)^2)/n : {ml}')\n",
    "print(f'mean sq err = {mean_sq_err} and rmse = {np.sqrt(mean_sq_err)}')"
   ]
  },
  {
   "cell_type": "code",
   "execution_count": 16,
   "metadata": {},
   "outputs": [],
   "source": [
    "test_pred = test.copy()\n",
    "test_pred[\"Predicted Ladder Score\"] = y_pred\n",
    "test_pred.reset_index(inplace = True)"
   ]
  },
  {
   "cell_type": "code",
   "execution_count": 17,
   "metadata": {},
   "outputs": [
    {
     "data": {
      "text/html": [
       "<div>\n",
       "<style scoped>\n",
       "    .dataframe tbody tr th:only-of-type {\n",
       "        vertical-align: middle;\n",
       "    }\n",
       "\n",
       "    .dataframe tbody tr th {\n",
       "        vertical-align: top;\n",
       "    }\n",
       "\n",
       "    .dataframe thead th {\n",
       "        text-align: right;\n",
       "    }\n",
       "</style>\n",
       "<table border=\"1\" class=\"dataframe\">\n",
       "  <thead>\n",
       "    <tr style=\"text-align: right;\">\n",
       "      <th></th>\n",
       "      <th>Country name</th>\n",
       "      <th>Ladder score</th>\n",
       "      <th>Predicted Ladder Score</th>\n",
       "    </tr>\n",
       "  </thead>\n",
       "  <tbody>\n",
       "    <tr>\n",
       "      <th>50</th>\n",
       "      <td>Latvia</td>\n",
       "      <td>6.032</td>\n",
       "      <td>5.938789</td>\n",
       "    </tr>\n",
       "    <tr>\n",
       "      <th>51</th>\n",
       "      <td>Colombia</td>\n",
       "      <td>6.012</td>\n",
       "      <td>5.565711</td>\n",
       "    </tr>\n",
       "    <tr>\n",
       "      <th>52</th>\n",
       "      <td>Hungary</td>\n",
       "      <td>5.992</td>\n",
       "      <td>5.911963</td>\n",
       "    </tr>\n",
       "    <tr>\n",
       "      <th>53</th>\n",
       "      <td>Thailand</td>\n",
       "      <td>5.985</td>\n",
       "      <td>5.935255</td>\n",
       "    </tr>\n",
       "    <tr>\n",
       "      <th>54</th>\n",
       "      <td>Nicaragua</td>\n",
       "      <td>5.972</td>\n",
       "      <td>5.656162</td>\n",
       "    </tr>\n",
       "    <tr>\n",
       "      <th>55</th>\n",
       "      <td>Japan</td>\n",
       "      <td>5.940</td>\n",
       "      <td>6.303117</td>\n",
       "    </tr>\n",
       "    <tr>\n",
       "      <th>56</th>\n",
       "      <td>Argentina</td>\n",
       "      <td>5.929</td>\n",
       "      <td>5.805673</td>\n",
       "    </tr>\n",
       "    <tr>\n",
       "      <th>57</th>\n",
       "      <td>Portugal</td>\n",
       "      <td>5.929</td>\n",
       "      <td>5.898572</td>\n",
       "    </tr>\n",
       "    <tr>\n",
       "      <th>58</th>\n",
       "      <td>Honduras</td>\n",
       "      <td>5.919</td>\n",
       "      <td>5.383985</td>\n",
       "    </tr>\n",
       "    <tr>\n",
       "      <th>59</th>\n",
       "      <td>Croatia</td>\n",
       "      <td>5.882</td>\n",
       "      <td>5.842950</td>\n",
       "    </tr>\n",
       "    <tr>\n",
       "      <th>60</th>\n",
       "      <td>Philippines</td>\n",
       "      <td>5.880</td>\n",
       "      <td>5.447520</td>\n",
       "    </tr>\n",
       "  </tbody>\n",
       "</table>\n",
       "</div>"
      ],
      "text/plain": [
       "   Country name  Ladder score  Predicted Ladder Score\n",
       "50       Latvia         6.032                5.938789\n",
       "51     Colombia         6.012                5.565711\n",
       "52      Hungary         5.992                5.911963\n",
       "53     Thailand         5.985                5.935255\n",
       "54    Nicaragua         5.972                5.656162\n",
       "55        Japan         5.940                6.303117\n",
       "56    Argentina         5.929                5.805673\n",
       "57     Portugal         5.929                5.898572\n",
       "58     Honduras         5.919                5.383985\n",
       "59      Croatia         5.882                5.842950\n",
       "60  Philippines         5.880                5.447520"
      ]
     },
     "execution_count": 17,
     "metadata": {},
     "output_type": "execute_result"
    }
   ],
   "source": [
    "test_pred.loc[50:60, [\"Country name\", \"Ladder score\", \"Predicted Ladder Score\"]]"
   ]
  },
  {
   "cell_type": "markdown",
   "metadata": {},
   "source": [
    "**- I will check correlation matrix**"
   ]
  },
  {
   "cell_type": "code",
   "execution_count": 466,
   "metadata": {},
   "outputs": [
    {
     "data": {
      "image/png": "[encoded data removed]",
      "text/plain": [
       "<Figure size 720x432 with 2 Axes>"
      ]
     },
     "metadata": {
      "needs_background": "light"
     },
     "output_type": "display_data"
    }
   ],
   "source": [
    "fig, ax = plt.subplots(figsize = [10,6])\n",
    "sns.heatmap(df_train.corr(), annot= True, cmap = \"YlGnBu\");"
   ]
  },
  {
   "cell_type": "code",
   "execution_count": 167,
   "metadata": {},
   "outputs": [
    {
     "data": {
      "image/png": "[encoded data removed]",
      "text/plain": [
       "<Figure size 720x432 with 2 Axes>"
      ]
     },
     "metadata": {
      "needs_background": "light"
     },
     "output_type": "display_data"
    }
   ],
   "source": [
    "fig, ax = plt.subplots(figsize = [10,6])\n",
    "sns.heatmap(abs(df_train.corr())>0.6, annot= True, cmap = \"YlGnBu\");"
   ]
  },
  {
   "cell_type": "markdown",
   "metadata": {},
   "source": [
    "**- Except Generosity, all the features have corelation with one or more feature - Problem of multicollinearity. So I will do PCA to create independent set of features and check the result**"
   ]
  },
  {
   "cell_type": "markdown",
   "metadata": {},
   "source": [
    "## CASE 2 : PCA (first data is scaled using Standard scaling)\n",
    "\n",
    "- For PCA, I will first standardize all features"
   ]
  },
  {
   "cell_type": "code",
   "execution_count": 71,
   "metadata": {},
   "outputs": [
    {
     "data": {
      "image/png": "[encoded data removed]",
      "text/plain": [
       "<Figure size 864x576 with 6 Axes>"
      ]
     },
     "metadata": {
      "needs_background": "light"
     },
     "output_type": "display_data"
    }
   ],
   "source": [
    "df_train_X.hist(bins=100, figsize=(12,8));  # Distribution of features of train set"
   ]
  },
  {
   "cell_type": "code",
   "execution_count": 72,
   "metadata": {},
   "outputs": [
    {
     "data": {
      "image/png": "[encoded data removed]",
      "text/plain": [
       "<Figure size 864x576 with 6 Axes>"
      ]
     },
     "metadata": {
      "needs_background": "light"
     },
     "output_type": "display_data"
    }
   ],
   "source": [
    "df_test_X.hist(bins=20, figsize=(12,8));  # Distribution of features of test set"
   ]
  },
  {
   "cell_type": "markdown",
   "metadata": {},
   "source": [
    "**- Distribution of features in train and test test is similar. So, I will standardize features for both train and test data**"
   ]
  },
  {
   "cell_type": "code",
   "execution_count": 75,
   "metadata": {},
   "outputs": [],
   "source": [
    "from sklearn.preprocessing import StandardScaler"
   ]
  },
  {
   "cell_type": "code",
   "execution_count": 76,
   "metadata": {},
   "outputs": [],
   "source": [
    "# Applying standard scaler on both train and test data features\n",
    "scaler = StandardScaler()\n",
    "\n",
    "scaler.fit(df_train_X)\n",
    "X_df_train = scaler.transform(df_train_X)\n",
    "X_df_test = scaler.transform(df_test_X)"
   ]
  },
  {
   "cell_type": "code",
   "execution_count": 77,
   "metadata": {},
   "outputs": [],
   "source": [
    "from sklearn.decomposition import PCA\n",
    "# Make an instance of the Model\n",
    "pca = PCA(n_components=3,  random_state=1234) \n",
    "# Value .95 for the number of components parameter.\n",
    "#It means that scikit-learn choose the minimum number of principal components such that 95% of the variance is retained."
   ]
  },
  {
   "cell_type": "code",
   "execution_count": 78,
   "metadata": {},
   "outputs": [],
   "source": [
    "train_X = pca.fit_transform(X_df_train)\n",
    "test_X = pca.transform(X_df_test)"
   ]
  },
  {
   "cell_type": "code",
   "execution_count": 79,
   "metadata": {},
   "outputs": [],
   "source": [
    "train_X_df = pd.DataFrame(data= train_X, columns=[f\"PC{i}\" for i in range(train_X.shape[1])])\n",
    "train_X_df.head()\n",
    "test_X_df  = pd.DataFrame(data= test_X, columns=[f\"PC{i}\" for i in range(test_X.shape[1])])"
   ]
  },
  {
   "cell_type": "code",
   "execution_count": 80,
   "metadata": {},
   "outputs": [
    {
     "data": {
      "text/html": [
       "<div>\n",
       "<style scoped>\n",
       "    .dataframe tbody tr th:only-of-type {\n",
       "        vertical-align: middle;\n",
       "    }\n",
       "\n",
       "    .dataframe tbody tr th {\n",
       "        vertical-align: top;\n",
       "    }\n",
       "\n",
       "    .dataframe thead th {\n",
       "        text-align: right;\n",
       "    }\n",
       "</style>\n",
       "<table border=\"1\" class=\"dataframe\">\n",
       "  <thead>\n",
       "    <tr style=\"text-align: right;\">\n",
       "      <th></th>\n",
       "      <th>PC0</th>\n",
       "      <th>PC1</th>\n",
       "      <th>PC2</th>\n",
       "    </tr>\n",
       "  </thead>\n",
       "  <tbody>\n",
       "    <tr>\n",
       "      <th>count</th>\n",
       "      <td>1.712000e+03</td>\n",
       "      <td>1.712000e+03</td>\n",
       "      <td>1.712000e+03</td>\n",
       "    </tr>\n",
       "    <tr>\n",
       "      <th>mean</th>\n",
       "      <td>-1.400749e-17</td>\n",
       "      <td>1.280777e-17</td>\n",
       "      <td>-1.280615e-16</td>\n",
       "    </tr>\n",
       "    <tr>\n",
       "      <th>std</th>\n",
       "      <td>1.725703e+00</td>\n",
       "      <td>1.162706e+00</td>\n",
       "      <td>8.132800e-01</td>\n",
       "    </tr>\n",
       "    <tr>\n",
       "      <th>min</th>\n",
       "      <td>-4.092745e+00</td>\n",
       "      <td>-3.286072e+00</td>\n",
       "      <td>-3.021540e+00</td>\n",
       "    </tr>\n",
       "    <tr>\n",
       "      <th>25%</th>\n",
       "      <td>-1.002441e+00</td>\n",
       "      <td>-8.758567e-01</td>\n",
       "      <td>-4.809166e-01</td>\n",
       "    </tr>\n",
       "    <tr>\n",
       "      <th>50%</th>\n",
       "      <td>1.458995e-02</td>\n",
       "      <td>-1.799868e-02</td>\n",
       "      <td>-1.665781e-02</td>\n",
       "    </tr>\n",
       "    <tr>\n",
       "      <th>75%</th>\n",
       "      <td>1.232038e+00</td>\n",
       "      <td>8.348488e-01</td>\n",
       "      <td>4.676103e-01</td>\n",
       "    </tr>\n",
       "    <tr>\n",
       "      <th>max</th>\n",
       "      <td>5.543458e+00</td>\n",
       "      <td>3.998686e+00</td>\n",
       "      <td>3.389886e+00</td>\n",
       "    </tr>\n",
       "  </tbody>\n",
       "</table>\n",
       "</div>"
      ],
      "text/plain": [
       "                PC0           PC1           PC2\n",
       "count  1.712000e+03  1.712000e+03  1.712000e+03\n",
       "mean  -1.400749e-17  1.280777e-17 -1.280615e-16\n",
       "std    1.725703e+00  1.162706e+00  8.132800e-01\n",
       "min   -4.092745e+00 -3.286072e+00 -3.021540e+00\n",
       "25%   -1.002441e+00 -8.758567e-01 -4.809166e-01\n",
       "50%    1.458995e-02 -1.799868e-02 -1.665781e-02\n",
       "75%    1.232038e+00  8.348488e-01  4.676103e-01\n",
       "max    5.543458e+00  3.998686e+00  3.389886e+00"
      ]
     },
     "execution_count": 80,
     "metadata": {},
     "output_type": "execute_result"
    }
   ],
   "source": [
    "train_X_df.describe()"
   ]
  },
  {
   "cell_type": "code",
   "execution_count": 81,
   "metadata": {},
   "outputs": [],
   "source": [
    "# adding a constant column to the PC -> y =a+ b1 x1 + b2 x2 , so constant column of 1 adding so that it can show intercept too\n",
    "\n",
    "train_X_df = sm.add_constant(train_X_df)   \n",
    "train_X_df.head()\n",
    "test_X_df = sm.add_constant(test_X_df)"
   ]
  },
  {
   "cell_type": "code",
   "execution_count": 84,
   "metadata": {},
   "outputs": [
    {
     "data": {
      "text/plain": [
       "(array([2.97804982, 1.35188455, 0.6614243 ]), 0.8314071926962916)"
      ]
     },
     "execution_count": 84,
     "metadata": {},
     "output_type": "execute_result"
    }
   ],
   "source": [
    "pca.explained_variance_, np.sum(pca.explained_variance_ratio_)"
   ]
  },
  {
   "cell_type": "code",
   "execution_count": 85,
   "metadata": {},
   "outputs": [],
   "source": [
    "# Fitting the Multiple Linear Regression model\n",
    "model_pca = sm.OLS(df_train_Y, train_X_df).fit()"
   ]
  },
  {
   "cell_type": "code",
   "execution_count": 86,
   "metadata": {},
   "outputs": [],
   "source": [
    "pred_y = model_pca.predict(test_X_df)"
   ]
  },
  {
   "cell_type": "code",
   "execution_count": 87,
   "metadata": {},
   "outputs": [
    {
     "name": "stdout",
     "output_type": "stream",
     "text": [
      "                            OLS Regression Results                            \n",
      "==============================================================================\n",
      "Dep. Variable:           Ladder score   R-squared:                       0.750\n",
      "Model:                            OLS   Adj. R-squared:                  0.749\n",
      "Method:                 Least Squares   F-statistic:                     1703.\n",
      "Date:                Fri, 23 Jul 2021   Prob (F-statistic):               0.00\n",
      "Time:                        02:15:25   Log-Likelihood:                -1462.1\n",
      "No. Observations:                1712   AIC:                             2932.\n",
      "Df Residuals:                    1708   BIC:                             2954.\n",
      "Df Model:                           3                                         \n",
      "Covariance Type:            nonrobust                                         \n",
      "==============================================================================\n",
      "                 coef    std err          t      P>|t|      [0.025      0.975]\n",
      "------------------------------------------------------------------------------\n",
      "const          5.4450      0.014    395.899      0.000       5.418       5.472\n",
      "PC0           -0.5670      0.008    -71.120      0.000      -0.583      -0.551\n",
      "PC1           -0.0564      0.012     -4.763      0.000      -0.080      -0.033\n",
      "PC2           -0.0922      0.017     -5.450      0.000      -0.125      -0.059\n",
      "==============================================================================\n",
      "Omnibus:                       29.396   Durbin-Watson:                   0.574\n",
      "Prob(Omnibus):                  0.000   Jarque-Bera (JB):               42.729\n",
      "Skew:                          -0.181   Prob(JB):                     5.27e-10\n",
      "Kurtosis:                       3.684   Cond. No.                         2.12\n",
      "==============================================================================\n",
      "\n",
      "Warnings:\n",
      "[1] Standard Errors assume that the covariance matrix of the errors is correctly specified.\n"
     ]
    }
   ],
   "source": [
    "print(model_pca.summary())"
   ]
  },
  {
   "cell_type": "markdown",
   "metadata": {},
   "source": [
    "**- p-value of F-stat is significant and based upon adjusted R^2 value, predictors are explaining 75.0% of the variation in ladder score, and each predictor is significant as well, given the p-value of t-stat for each predcitor (Principal components in this case)**"
   ]
  },
  {
   "cell_type": "code",
   "execution_count": 88,
   "metadata": {},
   "outputs": [
    {
     "data": {
      "image/png": "[encoded data removed]",
      "text/plain": [
       "<Figure size 432x288 with 1 Axes>"
      ]
     },
     "metadata": {
      "needs_background": "light"
     },
     "output_type": "display_data"
    }
   ],
   "source": [
    "plt.figure()\n",
    "sns.regplot(y = model_pca.resid, x = model_pca.fittedvalues);   # residual plot\n",
    "plt.xlabel('Predicted output')\n",
    "plt.ylabel('Errors');"
   ]
  },
  {
   "cell_type": "code",
   "execution_count": 89,
   "metadata": {},
   "outputs": [
    {
     "name": "stdout",
     "output_type": "stream",
     "text": [
      "Baseline model result (sum(y-ybar)^2)/n : 1.1455714774109274\n",
      "mean sq err = 0.29393172841904014 and rmse = 0.5421547089337508\n"
     ]
    }
   ],
   "source": [
    "mean_sq_err = mse(df_test_Y, pred_y)\n",
    "ml = (np.sum((df_test_Y - df_test_Y.mean())**2))/len(df_test_Y)\n",
    "print(f'Baseline model result (sum(y-ybar)^2)/n : {ml}')\n",
    "print(f'mean sq err = {mean_sq_err} and rmse = {np.sqrt(mean_sq_err)}')"
   ]
  },
  {
   "cell_type": "code",
   "execution_count": 90,
   "metadata": {
    "scrolled": true
   },
   "outputs": [
    {
     "data": {
      "image/png": "[encoded data removed]",
      "text/plain": [
       "<Figure size 432x288 with 1 Axes>"
      ]
     },
     "metadata": {
      "needs_background": "light"
     },
     "output_type": "display_data"
    }
   ],
   "source": [
    "plt.boxplot(df_train_Y);  # to check if there are any outliers in the response "
   ]
  },
  {
   "cell_type": "code",
   "execution_count": 91,
   "metadata": {},
   "outputs": [],
   "source": [
    "from scipy import stats"
   ]
  },
  {
   "cell_type": "code",
   "execution_count": 92,
   "metadata": {},
   "outputs": [
    {
     "data": {
      "image/png": "[encoded data removed]",
      "text/plain": [
       "<Figure size 432x288 with 1 Axes>"
      ]
     },
     "metadata": {
      "needs_background": "light"
     },
     "output_type": "display_data"
    }
   ],
   "source": [
    "fig = sm.qqplot( model_pca.resid.values, stats.t,fit=True, line=\"45\")\n",
    "plt.show()"
   ]
  },
  {
   "cell_type": "code",
   "execution_count": 93,
   "metadata": {},
   "outputs": [
    {
     "data": {
      "image/png": "[encoded data removed]",
      "text/plain": [
       "<Figure size 432x288 with 1 Axes>"
      ]
     },
     "metadata": {
      "needs_background": "light"
     },
     "output_type": "display_data"
    }
   ],
   "source": [
    "plt.hist(model_pca.resid.values , bins = 50);"
   ]
  },
  {
   "cell_type": "markdown",
   "metadata": {},
   "source": [
    "## CASE 3: USING ROBUST SCALING AND THEN DOING PCA\n",
    "\n",
    "- Since some of the features have outliers, so I will also try with robust scaling and check the results."
   ]
  },
  {
   "cell_type": "code",
   "execution_count": 94,
   "metadata": {},
   "outputs": [],
   "source": [
    "from sklearn.preprocessing import RobustScaler\n",
    "\n",
    "rob = RobustScaler()\n",
    "X_df_train = rob.fit_transform(df_train_X)\n",
    "X_df_test = rob.transform(df_test_X)"
   ]
  },
  {
   "cell_type": "code",
   "execution_count": 95,
   "metadata": {},
   "outputs": [],
   "source": [
    "from sklearn.decomposition import PCA\n",
    "\n",
    "pca = PCA(n_components=3,  random_state=250) "
   ]
  },
  {
   "cell_type": "code",
   "execution_count": 96,
   "metadata": {},
   "outputs": [],
   "source": [
    "train_X = pca.fit_transform(X_df_train)\n",
    "test_X = pca.transform(X_df_test)"
   ]
  },
  {
   "cell_type": "code",
   "execution_count": 97,
   "metadata": {},
   "outputs": [],
   "source": [
    "train_X_df = pd.DataFrame(data= train_X, columns=[f\"PC{i}\" for i in range(train_X.shape[1])])\n",
    "test_X_df  = pd.DataFrame(data= test_X, columns=[f\"PC{i}\" for i in range(test_X.shape[1])])"
   ]
  },
  {
   "cell_type": "code",
   "execution_count": 98,
   "metadata": {},
   "outputs": [],
   "source": [
    "# adding a constant column to the PC -> y =a+ b1 x1 + b2 x2 , so constant column of 1 adding so that it can show intercept too\n",
    "\n",
    "train_X_df = sm.add_constant(train_X_df)   \n",
    "test_X_df = sm.add_constant(test_X_df)"
   ]
  },
  {
   "cell_type": "code",
   "execution_count": 99,
   "metadata": {},
   "outputs": [
    {
     "data": {
      "text/plain": [
       "(array([1.74422439, 0.87176798, 0.5280896 ]), 0.8583218139222475)"
      ]
     },
     "execution_count": 99,
     "metadata": {},
     "output_type": "execute_result"
    }
   ],
   "source": [
    "pca.explained_variance_, np.sum(pca.explained_variance_ratio_)"
   ]
  },
  {
   "cell_type": "code",
   "execution_count": 100,
   "metadata": {},
   "outputs": [],
   "source": [
    "# Fitting the Multiple Linear Regression model\n",
    "model_pca1 = sm.OLS(df_train_Y, train_X_df).fit()"
   ]
  },
  {
   "cell_type": "code",
   "execution_count": 101,
   "metadata": {},
   "outputs": [],
   "source": [
    "pred_y = model_pca1.predict(test_X_df)"
   ]
  },
  {
   "cell_type": "code",
   "execution_count": 102,
   "metadata": {},
   "outputs": [
    {
     "name": "stdout",
     "output_type": "stream",
     "text": [
      "                            OLS Regression Results                            \n",
      "==============================================================================\n",
      "Dep. Variable:           Ladder score   R-squared:                       0.747\n",
      "Model:                            OLS   Adj. R-squared:                  0.746\n",
      "Method:                 Least Squares   F-statistic:                     1680.\n",
      "Date:                Fri, 23 Jul 2021   Prob (F-statistic):               0.00\n",
      "Time:                        02:16:38   Log-Likelihood:                -1470.8\n",
      "No. Observations:                1712   AIC:                             2950.\n",
      "Df Residuals:                    1708   BIC:                             2971.\n",
      "Df Model:                           3                                         \n",
      "Covariance Type:            nonrobust                                         \n",
      "==============================================================================\n",
      "                 coef    std err          t      P>|t|      [0.025      0.975]\n",
      "------------------------------------------------------------------------------\n",
      "const          5.4450      0.014    393.883      0.000       5.418       5.472\n",
      "PC0            0.6771      0.010     64.668      0.000       0.657       0.698\n",
      "PC1           -0.3958      0.015    -26.722      0.000      -0.425      -0.367\n",
      "PC2            0.2292      0.019     12.047      0.000       0.192       0.267\n",
      "==============================================================================\n",
      "Omnibus:                       30.234   Durbin-Watson:                   0.576\n",
      "Prob(Omnibus):                  0.000   Jarque-Bera (JB):               44.940\n",
      "Skew:                          -0.178   Prob(JB):                     1.74e-10\n",
      "Kurtosis:                       3.709   Cond. No.                         1.82\n",
      "==============================================================================\n",
      "\n",
      "Warnings:\n",
      "[1] Standard Errors assume that the covariance matrix of the errors is correctly specified.\n"
     ]
    }
   ],
   "source": [
    "print(model_pca1.summary())"
   ]
  },
  {
   "cell_type": "markdown",
   "metadata": {},
   "source": [
    "**- p-value of F-stat is significant and based upon adjusted R^2 value, predictors are explaining 74.6% of the variation in ladder score, and each predictor is significant as well, given the p-value of t-stat for each predcitor (Principal component in this case)**"
   ]
  },
  {
   "cell_type": "code",
   "execution_count": 104,
   "metadata": {},
   "outputs": [
    {
     "data": {
      "image/png": "[encoded data removed]",
      "text/plain": [
       "<Figure size 432x288 with 1 Axes>"
      ]
     },
     "metadata": {
      "needs_background": "light"
     },
     "output_type": "display_data"
    }
   ],
   "source": [
    "plt.figure()\n",
    "sns.regplot(y = model_pca1.resid, x = model_pca1.fittedvalues);   # residual plot\n",
    "plt.xlabel('Predicted output')\n",
    "plt.ylabel('Errors');"
   ]
  },
  {
   "cell_type": "code",
   "execution_count": 105,
   "metadata": {},
   "outputs": [
    {
     "data": {
      "image/png": "[encoded data removed]",
      "text/plain": [
       "<Figure size 432x288 with 1 Axes>"
      ]
     },
     "metadata": {
      "needs_background": "light"
     },
     "output_type": "display_data"
    }
   ],
   "source": [
    "fig = sm.qqplot( model_pca1.resid.values, stats.t,fit=True, line=\"45\")\n",
    "plt.show()"
   ]
  },
  {
   "cell_type": "code",
   "execution_count": 106,
   "metadata": {},
   "outputs": [
    {
     "data": {
      "image/png": "[encoded data removed]",
      "text/plain": [
       "<Figure size 432x288 with 1 Axes>"
      ]
     },
     "metadata": {
      "needs_background": "light"
     },
     "output_type": "display_data"
    }
   ],
   "source": [
    "plt.hist(model_pca1.resid.values , bins = 50);"
   ]
  },
  {
   "cell_type": "code",
   "execution_count": 107,
   "metadata": {},
   "outputs": [
    {
     "name": "stdout",
     "output_type": "stream",
     "text": [
      "Baseline model result (sum(y-ybar)^2)/n : 1.1455714774109274\n",
      "mean sq err = 0.29581979238887274 and rmse = 0.5438931810464925\n"
     ]
    }
   ],
   "source": [
    "mean_sq_err = mse(df_test_Y, pred_y)\n",
    "ml = (np.sum((df_test_Y - df_test_Y.mean())**2))/len(df_test_Y)\n",
    "print(f'Baseline model result (sum(y-ybar)^2)/n : {ml}')\n",
    "print(f'mean sq err = {mean_sq_err} and rmse = {np.sqrt(mean_sq_err)}')"
   ]
  },
  {
   "cell_type": "markdown",
   "metadata": {},
   "source": [
    "- Comparing the mse and rmse results with that of standard scaler, they are not that different."
   ]
  },
  {
   "cell_type": "markdown",
   "metadata": {},
   "source": [
    "## CONCLUSION\n",
    "\n",
    "- I have done statistical tests like hypothesis, anova and chi-sqaure to understand the relation and significance of different features with each other.\n",
    "\n",
    "**I have done multiple regression using the data of countries till 2020 to predict the ladder score (happiness score) of countries for 2021. I have used features : logged gdp, social support, freedom to make life choices, perceptions of corruption, health life expectancy at birth and generosity to predict the response variable : \"ladder score\" and have evaluated the model using metric \"Mean squared error\"**\n",
    "\n",
    "- Since there is multicollinearity in the data, so I have created independent features using PCA. Using PCA, MSE of the model improves a little bit.\n",
    "- I have attempted using 2 feature scaling methods while doing PCA: Standard scaling and Robust Scaling. Adjusted R square and MSE vary only a bit using the two methods.\n",
    "\n",
    "- Based on the regression and statistical tests, we see that each of these features are significant in determining the happiness score of a country and are also correlated with each other. It helps to gain insights about the social and developmental aspects of the countries and how happy citizens of the countries really are and how each of these features are important in determining it.\n",
    "- The correlated factors could be studied together for better understanding and creating a positive impact in the future."
   ]
  },
  {
   "cell_type": "code",
   "execution_count": null,
   "metadata": {},
   "outputs": [],
   "source": []
  }
 ],
 "metadata": {
  "kernelspec": {
   "display_name": "Python 3",
   "language": "python",
   "name": "python3"
  },
  "language_info": {
   "codemirror_mode": {
    "name": "ipython",
    "version": 3
   },
   "file_extension": ".py",
   "mimetype": "text/x-python",
   "name": "python",
   "nbconvert_exporter": "python",
   "pygments_lexer": "ipython3",
   "version": "3.7.6"
  }
 },
 "nbformat": 4,
 "nbformat_minor": 4
}
